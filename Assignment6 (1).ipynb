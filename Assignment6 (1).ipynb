{
 "cells": [
  {
   "cell_type": "code",
   "execution_count": 1,
   "id": "773a21c1",
   "metadata": {},
   "outputs": [],
   "source": [
    "import pandas as pd\n",
    "import csv\n",
    "import string\n",
    "import matplotlib.pyplot as plt"
   ]
  },
  {
   "cell_type": "code",
   "execution_count": 2,
   "id": "9a2b85f7",
   "metadata": {},
   "outputs": [],
   "source": [
    "# Convert the csv file into dataframe for more convenience\n",
    "\n",
    "dataframe = pd.read_csv('LP_destinations.csv')"
   ]
  },
  {
   "cell_type": "code",
   "execution_count": 3,
   "id": "43417279",
   "metadata": {},
   "outputs": [],
   "source": [
    "# Q.1\n",
    "# create new list\n",
    "count_list = [0]*len(dataframe['description'])\n",
    "\n",
    "# append items\n",
    "for i in range (len(dataframe['description'])):\n",
    "    count_list[i] = len(dataframe['description'].iloc[i].split())\n",
    "\n",
    "# add new list to a new column\n",
    "dataframe[\"num_of_words\"] = count_list"
   ]
  },
  {
   "cell_type": "code",
   "execution_count": 41,
   "id": "5f4559ea",
   "metadata": {},
   "outputs": [],
   "source": [
    "No_punct_description = [0]*len(dataframe['description'])\n",
    "\n",
    "for i in range(len(dataframe['description'])):\n",
    "    No_punct_description[i] = dataframe['description'].iloc[i].replace(\"\\n\",\" \")\n",
    "    for char in No_punct_description[i]:\n",
    "        # Check whether the char is not a number ,letter or space, if so then delete it (replace with nothing) \n",
    "        if not (char >= '0' and char <= '9') and not (char >= 'A' and char <= 'z') and not char ==' ':\n",
    "            No_punct_description[i] = No_punct_description[i].replace(char,\"\")\n",
    "    \n",
    "dataframe[\"No_punct_description\"] = No_punct_description"
   ]
  },
  {
   "cell_type": "code",
   "execution_count": 32,
   "id": "320b6770",
   "metadata": {},
   "outputs": [],
   "source": [
    "# Q.3\n",
    "# create new list\n",
    "has_resturant = [0]*len(dataframe['description'])\n",
    "\n",
    "# append items\n",
    "for i in range(len(dataframe['description'])):\n",
    "    has_resturant[i]=dataframe['description'].iloc[i].count('restaurant')\n",
    "\n",
    "# add new list to a new column\n",
    "dataframe[\"has_resturant\"] = has_resturant"
   ]
  },
  {
   "cell_type": "code",
   "execution_count": 33,
   "id": "e96cabb9",
   "metadata": {},
   "outputs": [],
   "source": [
    "# Q.4\n",
    "# create new list\n",
    "has_museum = [0]*len(dataframe['description'])\n",
    "\n",
    "# append items\n",
    "for i in range(len(dataframe['description'])):\n",
    "    has_museum[i]=dataframe['description'].iloc[i].count('museum')\n",
    "\n",
    "# add new list to a new column\n",
    "dataframe[\"has_museums\"] = has_museum\n"
   ]
  },
  {
   "cell_type": "code",
   "execution_count": 34,
   "id": "25b6bd74",
   "metadata": {},
   "outputs": [],
   "source": [
    "# Q.5\n",
    "# create new list\n",
    "has_beach = [0]*len(dataframe['description'])\n",
    "\n",
    "beach=0\n",
    "ocean=0\n",
    "sea=0\n",
    "\n",
    "# append items\n",
    "for i in range(len(dataframe['description'])):\n",
    "    beach = dataframe['description'].iloc[i].count('beach')\n",
    "    ocean = dataframe['description'].iloc[i].count('ocean')\n",
    "    sea = dataframe['description'].iloc[i].count('sea')\n",
    "    \n",
    "    has_beach[i] = beach + ocean + sea\n",
    "\n",
    "# add new list to a new column\n",
    "dataframe[\"has_beaches\"] = has_beach"
   ]
  },
  {
   "cell_type": "code",
   "execution_count": 58,
   "id": "9397957c",
   "metadata": {},
   "outputs": [
    {
     "name": "stdout",
     "output_type": "stream",
     "text": [
      "Average num of words is:  277.36842105263156\n"
     ]
    }
   ],
   "source": [
    "# Q.6\n",
    "# Average number of words\n",
    "\n",
    "print(\"Average num of words is: \",sum(count_list)/len(count_list))"
   ]
  },
  {
   "cell_type": "code",
   "execution_count": 21,
   "id": "759f642c",
   "metadata": {},
   "outputs": [
    {
     "name": "stdout",
     "output_type": "stream",
     "text": [
      "The city which has the highest number of words is: Florence\n"
     ]
    }
   ],
   "source": [
    "# Q.7\n",
    "# Highest number of words\n",
    "\n",
    "# index contains the index of the highest number of words in the description\n",
    "index = count_list.index(max(count_list))\n",
    "print(\"The city which has the highest number of words is:\", dataframe['city'].iloc[index])"
   ]
  },
  {
   "cell_type": "code",
   "execution_count": 42,
   "id": "8d55f978",
   "metadata": {},
   "outputs": [
    {
     "data": {
      "image/png": "[encoded data removed]",
      "text/plain": [
       "<Figure size 432x288 with 1 Axes>"
      ]
     },
     "metadata": {
      "needs_background": "light"
     },
     "output_type": "display_data"
    }
   ],
   "source": [
    "# Q.8\n",
    "\n",
    "plt.hist(count_list)\n",
    "# change it\n",
    "plt.title('My title')\n",
    "plt.xlabel(\"Number of words\")\n",
    "plt.ylabel(\"City count\")\n",
    "plt.show()"
   ]
  },
  {
   "cell_type": "code",
   "execution_count": 36,
   "id": "9c067f0a",
   "metadata": {},
   "outputs": [
    {
     "data": {
      "image/png": "[encoded data removed]",
      "text/plain": [
       "<Figure size 432x288 with 1 Axes>"
      ]
     },
     "metadata": {
      "needs_background": "light"
     },
     "output_type": "display_data"
    }
   ],
   "source": [
    "# Q.9\n",
    "\n",
    "plt.scatter(has_resturant, has_beach)\n",
    "# change it\n",
    "plt.title('My title')\n",
    "plt.xlabel(\"Has resturant\")\n",
    "plt.ylabel(\"Has beach\")\n",
    "plt.show()"
   ]
  },
  {
   "cell_type": "code",
   "execution_count": 38,
   "id": "76f72a1e",
   "metadata": {},
   "outputs": [
    {
     "data": {
      "image/png": "[encoded data removed]",
      "text/plain": [
       "<Figure size 432x288 with 1 Axes>"
      ]
     },
     "metadata": {
      "needs_background": "light"
     },
     "output_type": "display_data"
    }
   ],
   "source": [
    "# Q.10\n",
    "\n",
    "plt.scatter(has_museum, has_beach)\n",
    "# change it\n",
    "plt.title('My title')\n",
    "plt.xlabel(\"Has museum\")\n",
    "plt.ylabel(\"Has beach\")\n",
    "plt.show()"
   ]
  }
 ],
 "metadata": {
  "kernelspec": {
   "display_name": "Python 3 (ipykernel)",
   "language": "python",
   "name": "python3"
  },
  "language_info": {
   "codemirror_mode": {
    "name": "ipython",
    "version": 3
   },
   "file_extension": ".py",
   "mimetype": "text/x-python",
   "name": "python",
   "nbconvert_exporter": "python",
   "pygments_lexer": "ipython3",
   "version": "3.9.7"
  }
 },
 "nbformat": 4,
 "nbformat_minor": 5
}
